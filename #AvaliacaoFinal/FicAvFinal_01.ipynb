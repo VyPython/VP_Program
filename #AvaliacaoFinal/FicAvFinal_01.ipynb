{
 "cells": [
  {
   "cell_type": "markdown",
   "metadata": {},
   "source": [
    "1. Leia uma cadeia de caracteres no formato “DD/MM/AAAA” e copie o dia, mês e ano para três variáveis inteiras.\n",
    "\n",
    "Recorri ao jupiter, com a seguinte descrição:\n",
    "solicitar ao utilizador a inserção da data, validando erros\n",
    "\n",
    "isto seria a base\n",
    "data_str = input(\"Digite a data no formato DD/MM/AAAA: \")\n",
    "dia, mes, ano = map(int, data_str.split('/'))\n",
    "print(f\"Dia: {dia}\")\n",
    "print(f\"Mês: {mes}\")\n",
    "print(f\"Ano: {ano}\")\n",
    "\n",
    "porém valida se \n",
    "o ano é bissexto\n",
    "o número de dias dos meses\n",
    "o formato da data inserida\n",
    "\n"
   ]
  },
  {
   "cell_type": "code",
   "execution_count": null,
   "metadata": {},
   "outputs": [],
   "source": [
    "def ver_ano_bissexto(ano):\n",
    "    \"\"\"Verificar se o ano é bissexto.\"\"\"\n",
    "    return (ano % 4 == 0 and ano % 100 != 0) or (ano % 400 == 0)\n",
    "\n",
    "def validar_data(dia, mes, ano):\n",
    "    \"\"\"Validar se a data é válida.\"\"\"\n",
    "    if mes < 1 or mes > 12:\n",
    "        return False\n",
    "    if dia < 1 or dia > 31:\n",
    "        return False\n",
    "\n",
    "    # Meses de 30 dias\n",
    "    if mes in [4, 6, 9, 11] and dia > 30:\n",
    "        return False\n",
    "\n",
    "    # Fevereiro: verifica ano bissexto\n",
    "    if mes == 2:\n",
    "        if ver_ano_bissexto(ano):\n",
    "            if dia > 29:\n",
    "                return False\n",
    "        else:\n",
    "            if dia > 28:\n",
    "                return False\n",
    "\n",
    "    return True\n",
    "\n",
    "def main():\n",
    "    data_str = input(\"Digite a data no formato DD/MM/AAAA: \")\n",
    "\n",
    "    # Verifica se a string tem 10 caracteres e se as barras estão nas posições do formato pretendido\n",
    "    if len(data_str) != 10 or data_str[2] != '/' or data_str[5] != '/':\n",
    "        print(\"Formato inválido. Use o formato DD/MM/AAAA.\")\n",
    "        return\n",
    "\n",
    "    try:\n",
    "        # Divisao da string em dia, mês e ano\n",
    "        dia = int(data_str[:2])\n",
    "        mes = int(data_str[3:5])\n",
    "        ano = int(data_str[6:])\n",
    "\n",
    "        # Validação a data\n",
    "        if validar_data(dia, mes, ano):\n",
    "            print(f\"Dia: {dia}\")\n",
    "            print(f\"Mês: {mes}\")\n",
    "            print(f\"Ano: {ano}\")\n",
    "        else:\n",
    "            print(\"Data inválida. Verifique os valores de dia, mês e ano.\")\n",
    "    except ValueError:\n",
    "        print(\"Erro: Certifique-se de que dia, mês e ano são números inteiros.\")\n",
    "\n",
    "if __name__ == \"__main__\":\n",
    "    main()"
   ]
  }
 ],
 "metadata": {
  "kernelspec": {
   "display_name": "Python 3",
   "language": "python",
   "name": "python3"
  },
  "language_info": {
   "codemirror_mode": {
    "name": "ipython",
    "version": 3
   },
   "file_extension": ".py",
   "mimetype": "text/x-python",
   "name": "python",
   "nbconvert_exporter": "python",
   "pygments_lexer": "ipython3",
   "version": "3.11.9"
  }
 },
 "nbformat": 4,
 "nbformat_minor": 2
}
