{
 "cells": [
  {
   "cell_type": "code",
   "execution_count": 1,
   "metadata": {},
   "outputs": [],
   "source": [
    "import matplotlib.pyplot as plt\n",
    "import matplotlib as mpl\n",
    "import pandas as pd\n",
    "import numpy as np\n",
    "import pylab as plt"
   ]
  },
  {
   "cell_type": "code",
   "execution_count": 2,
   "metadata": {},
   "outputs": [],
   "source": [
    "df_train = pd.read_csv('train_no_nulls.csv')"
   ]
  },
  {
   "cell_type": "markdown",
   "metadata": {},
   "source": [
    "Vamos agora exercitar a remoção de outliers. os dados originais foram modificados\n",
    "para incluir ocorrências incomuns em alguns atributps\n",
    "o primeiro passo para identificar outliers é ver uma breve descrição dos dados numéricos"
   ]
  },
  {
   "cell_type": "code",
   "execution_count": 3,
   "metadata": {},
   "outputs": [
    {
     "name": "stdout",
     "output_type": "stream",
     "text": [
      "       PassengerId    Survived      Pclass         Age       SibSp  \\\n",
      "count   891.000000  891.000000  891.000000  891.000000  891.000000   \n",
      "mean    446.000000    0.383838    2.308642   29.839174    0.523008   \n",
      "std     257.353842    0.486592    0.836071   13.454159    1.102743   \n",
      "min       1.000000    0.000000    1.000000    0.420000    0.000000   \n",
      "25%     223.500000    0.000000    2.000000   22.000000    0.000000   \n",
      "50%     446.000000    0.000000    3.000000   29.839174    0.000000   \n",
      "75%     668.500000    1.000000    3.000000   35.000000    1.000000   \n",
      "max     891.000000    1.000000    3.000000  133.000000    8.000000   \n",
      "\n",
      "            Parch         Fare  \n",
      "count  891.000000   891.000000  \n",
      "mean     0.381594    37.234698  \n",
      "std      0.806057   173.359298  \n",
      "min      0.000000   -10.100000  \n",
      "25%      0.000000     7.910400  \n",
      "50%      0.000000    14.454200  \n",
      "75%      0.000000    31.000000  \n",
      "max      6.000000  5012.329200  \n"
     ]
    }
   ],
   "source": [
    "print(df_train.describe())"
   ]
  },
  {
   "cell_type": "markdown",
   "metadata": {},
   "source": [
    "As colunas que nos interessam são: \"age\", 'sibsp', 'parch' e 'fare'\n",
    "as restantes são categóricas ou apenas contém o ID do passageiro\n",
    "coisas incomuns:\n",
    "a menor tarifa é negativa(provavelmente um erro)\n",
    "a maior tarifa é um número 10x maior que o terceiro quartil (75%)\n",
    "há algém com a idade de 133 anos, hoje pouco provável. deve tratar-se de um outlier ou erro\n",
    "isto é subjetivo sem conhecimento do domínio do problema\n",
    "mas para fins didátios vamos tratar aqui as anomalias como erros nos dados e vamos remove-los trocando pelo valor médio\n",
    "primeiro, vamos mostrar os 5 maiores e os 5 menores registos de idade\n"
   ]
  },
  {
   "cell_type": "code",
   "execution_count": 7,
   "metadata": {},
   "outputs": [
    {
     "name": "stdout",
     "output_type": "stream",
     "text": [
      "630    80.0\n",
      "851    74.0\n",
      "96     71.0\n",
      "493    71.0\n",
      "116    70.5\n",
      "Name: Age, dtype: float64\n",
      "803    0.42\n",
      "755    0.67\n",
      "469    0.75\n",
      "644    0.75\n",
      "78     0.83\n",
      "Name: Age, dtype: float64\n"
     ]
    }
   ],
   "source": [
    "print(df_train.sort_values('Age', ascending=False).head(5)['Age'])\n",
    "print(df_train.sort_values('Age', ascending=True).head(5)['Age'])"
   ]
  },
  {
   "cell_type": "markdown",
   "metadata": {},
   "source": [
    "Na idade nota-se que o valor 133 parece fora da nornamlidade\n",
    "vamos troca-lo pelo valor médio das idades, já calculado no ficheiro ftq14"
   ]
  },
  {
   "cell_type": "code",
   "execution_count": 6,
   "metadata": {},
   "outputs": [],
   "source": [
    "media_idade = df_train['Age'].mean()\n",
    "df_train.loc[df_train['Age']==133, 'Age'] = media_idade"
   ]
  },
  {
   "cell_type": "markdown",
   "metadata": {},
   "source": [
    "Agora o mesmo para a tarifa, os 5 maiores e menores"
   ]
  },
  {
   "cell_type": "code",
   "execution_count": 8,
   "metadata": {},
   "outputs": [
    {
     "name": "stdout",
     "output_type": "stream",
     "text": [
      "258    5012.3292\n",
      "737     512.3292\n",
      "679     512.3292\n",
      "88      263.0000\n",
      "438     263.0000\n",
      "Name: Fare, dtype: float64\n",
      "156   -10.1\n",
      "815     0.0\n",
      "413     0.0\n",
      "806     0.0\n",
      "302     0.0\n",
      "Name: Fare, dtype: float64\n"
     ]
    }
   ],
   "source": [
    "print(df_train.sort_values('Fare', ascending=False).head(5)['Fare'])\n",
    "print(df_train.sort_values('Fare', ascending=True).head(5)['Fare'])"
   ]
  },
  {
   "cell_type": "markdown",
   "metadata": {},
   "source": [
    "vimos aqui o valor negativo e um valor 10x do bilhete mais caro ara o segundo mais caro\n",
    "vamos tratá-los como erros e atualizá-los com o valor da mediana da tarifa\n",
    "usaremos a mediana em vez da média, pois ela é menos sensível aos outlires"
   ]
  },
  {
   "cell_type": "code",
   "execution_count": 10,
   "metadata": {},
   "outputs": [
    {
     "name": "stdout",
     "output_type": "stream",
     "text": [
      "737    512.3292\n",
      "679    512.3292\n",
      "27     263.0000\n",
      "438    263.0000\n",
      "341    263.0000\n",
      "Name: Fare, dtype: float64\n",
      "822    0.0\n",
      "806    0.0\n",
      "815    0.0\n",
      "413    0.0\n",
      "466    0.0\n",
      "Name: Fare, dtype: float64\n"
     ]
    }
   ],
   "source": [
    "mediana_tarifa = df_train['Fare'].median()\n",
    "df_train.loc[df_train['Fare']>5000, 'Fare']=mediana_tarifa\n",
    "df_train.loc[df_train['Fare']<0, 'Fare']=mediana_tarifa\n",
    "\n",
    "print(df_train.sort_values('Fare',ascending=False).head(5)['Fare'])\n",
    "print(df_train.sort_values('Fare',ascending=True).head(5)['Fare'])"
   ]
  },
  {
   "cell_type": "markdown",
   "metadata": {},
   "source": [
    "Vamos guardar os nossos dados"
   ]
  },
  {
   "cell_type": "code",
   "execution_count": 11,
   "metadata": {},
   "outputs": [],
   "source": [
    "df_train.to_csv('train_no_nulls_no_outliers.csv', index=False)"
   ]
  }
 ],
 "metadata": {
  "kernelspec": {
   "display_name": "Python 3",
   "language": "python",
   "name": "python3"
  },
  "language_info": {
   "codemirror_mode": {
    "name": "ipython",
    "version": 3
   },
   "file_extension": ".py",
   "mimetype": "text/x-python",
   "name": "python",
   "nbconvert_exporter": "python",
   "pygments_lexer": "ipython3",
   "version": "3.11.9"
  }
 },
 "nbformat": 4,
 "nbformat_minor": 2
}
