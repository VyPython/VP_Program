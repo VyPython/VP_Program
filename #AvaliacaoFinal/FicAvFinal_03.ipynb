{
 "cells": [
  {
   "cell_type": "markdown",
   "metadata": {},
   "source": [
    "3. Escreve uma função em Python que dada uma lista de números imprime a soma dos valores dessa lista, o número de elementos da lista e a media desses valores. Implementa tratamento de exceções no teu código (try…except…else..finally).\n",
    "\n",
    "Considerações para o exercício:\n",
    "verificação se a lista está vazia ou se tem digitos além de números\n",
    "fazer o cálculo da soma, do número de elemntos e da média como solicitado\n",
    "fazer o tratamento de exceções e imprimir a lista "
   ]
  },
  {
   "cell_type": "code",
   "execution_count": 28,
   "metadata": {},
   "outputs": [
    {
     "name": "stdout",
     "output_type": "stream",
     "text": [
      "Lista de números:\n",
      "Soma dos valores: 140\n",
      "Número de elementos: 6\n",
      "Média dos valores: 23.33\n",
      "Processamento concluído.\n"
     ]
    }
   ],
   "source": [
    "def calcular_estatisticas(lista):\n",
    "    try:\n",
    "        # Verifica se a lista está vazia\n",
    "        if not lista:\n",
    "            raise ValueError(\"A lista está vazia.\")\n",
    "        \n",
    "        # Verifica se todos os elementos da lista são números\n",
    "        if not all(isinstance(item, (int, float)) for item in lista):\n",
    "            raise TypeError(\"A lista deve conter apenas números.\")\n",
    "        \n",
    "        # Calcula a soma dos valores\n",
    "        soma = sum(lista)\n",
    "        \n",
    "        # Calcula o número de elementos\n",
    "        num_elementos = len(lista)\n",
    "        \n",
    "        # Calcula a média\n",
    "        media = soma / num_elementos\n",
    "        \n",
    "    except ValueError as ve:\n",
    "        print(f\"Erro: {ve}\")\n",
    "    except TypeError as te:\n",
    "        print(f\"Erro: {te}\")\n",
    "    except Exception as e:\n",
    "        print(f\"Erro inesperado: {e}\")\n",
    "    else:\n",
    "        # Se não houver exceções, imprime os resultados\n",
    "        print(f\"Soma dos valores: {soma}\")\n",
    "        print(f\"Número de elementos: {num_elementos}\")\n",
    "        print(f\"Média dos valores: {media:.2f}\")\n",
    "    finally:\n",
    "        # Executa sempre, independentemente de exceções\n",
    "        print(\"Processamento concluído.\")\n",
    "\n",
    "listnum = [10, 20, 30, 50, 20, 10]\n",
    "\n",
    "print(\"Lista de números:\")\n",
    "calcular_estatisticas(listnum)"
   ]
  }
 ],
 "metadata": {
  "kernelspec": {
   "display_name": "Python 3",
   "language": "python",
   "name": "python3"
  },
  "language_info": {
   "codemirror_mode": {
    "name": "ipython",
    "version": 3
   },
   "file_extension": ".py",
   "mimetype": "text/x-python",
   "name": "python",
   "nbconvert_exporter": "python",
   "pygments_lexer": "ipython3",
   "version": "3.11.9"
  }
 },
 "nbformat": 4,
 "nbformat_minor": 2
}
