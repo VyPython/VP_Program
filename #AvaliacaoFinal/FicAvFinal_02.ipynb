{
 "cells": [
  {
   "cell_type": "markdown",
   "metadata": {},
   "source": [
    "2.\n",
    "Escreve uma função em Python que dada uma palavra retorne o número de vogais nessa palavra.\n",
    "\n",
    "resolução:\n",
    "começar por definir todo o tipo de vogais, incluindo acentuação\n",
    "iniciar o contador\n",
    "percorrer a palavra e adicionar as vogais\n",
    "a palavra é digitada pelo utilizador\n",
    "imprimir a palavra e o número de vogais\n"
   ]
  },
  {
   "cell_type": "code",
   "execution_count": 1,
   "metadata": {},
   "outputs": [
    {
     "name": "stdout",
     "output_type": "stream",
     "text": [
      "A palavra 'pdftrc' tem 0 vogais.\n"
     ]
    }
   ],
   "source": [
    "def contar_vogais(palavra):\n",
    "    # Defiçao das vogais\n",
    "    vogais = \"aeiouAEIOUáéíóúÁÉÍÓÚâêîôûÂÊÎÔÛãõÃÕàèìòùÀÈÌÒÙäëïöüÄËÏÖÜ\"\n",
    "    \n",
    "    # Inicializa o contador de vogais\n",
    "    contador = 0\n",
    "    \n",
    "    # Iteração sobre cada digito da palavra\n",
    "    for letra in palavra:\n",
    "        if letra in vogais:\n",
    "            contador += 1\n",
    "    \n",
    "    return contador\n",
    "\n",
    "\n",
    "palavra = input(\"Digite uma palavra: \")\n",
    "quantidade_vogais = contar_vogais(palavra)\n",
    "print(f\"A palavra '{palavra}' tem {quantidade_vogais} vogais.\")"
   ]
  }
 ],
 "metadata": {
  "kernelspec": {
   "display_name": "Python 3",
   "language": "python",
   "name": "python3"
  },
  "language_info": {
   "codemirror_mode": {
    "name": "ipython",
    "version": 3
   },
   "file_extension": ".py",
   "mimetype": "text/x-python",
   "name": "python",
   "nbconvert_exporter": "python",
   "pygments_lexer": "ipython3",
   "version": "3.11.9"
  }
 },
 "nbformat": 4,
 "nbformat_minor": 2
}
