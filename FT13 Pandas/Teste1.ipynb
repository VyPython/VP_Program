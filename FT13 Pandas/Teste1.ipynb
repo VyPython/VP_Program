{
 "cells": [
  {
   "cell_type": "code",
   "execution_count": 1,
   "metadata": {},
   "outputs": [],
   "source": [
    "import pandas as pd"
   ]
  },
  {
   "cell_type": "markdown",
   "metadata": {},
   "source": [
    "#ler ficheiro cast.csv para dataframe casts \n",
    "#dados estatisticos do conjunto"
   ]
  },
  {
   "cell_type": "code",
   "execution_count": 3,
   "metadata": {},
   "outputs": [
    {
     "name": "stdout",
     "output_type": "stream",
     "text": [
      "               year             n\n",
      "count  75001.000000  46035.000000\n",
      "mean    1990.536473     16.814359\n",
      "std       26.748233     24.695616\n",
      "min     1912.000000      1.000000\n",
      "25%     1974.000000      4.000000\n",
      "50%     2002.000000     10.000000\n",
      "75%     2012.000000     21.000000\n",
      "max     2023.000000    701.000000\n"
     ]
    }
   ],
   "source": [
    "casts = pd.read_csv('cast.csv', index_col=None)\n",
    "print(casts.describe())"
   ]
  },
  {
   "cell_type": "markdown",
   "metadata": {},
   "source": [
    "imprimir as cinco primeiras linhas do dataframe casts"
   ]
  },
  {
   "cell_type": "code",
   "execution_count": 4,
   "metadata": {},
   "outputs": [
    {
     "name": "stdout",
     "output_type": "stream",
     "text": [
      "                  title  year      name   type                character     n\n",
      "0        Closet Monster  2015  Buffy #1  actor                  Buffy 4  31.0\n",
      "1       Suuri illusioni  1985    Homo $  actor                   Guests  22.0\n",
      "2   Battle of the Sexes  2017   $hutter  actor          Bobby Riggs Fan  10.0\n",
      "3  Secret in Their Eyes  2015   $hutter  actor          2002 Dodger Fan   NaN\n",
      "4            Steve Jobs  2015   $hutter  actor  1988 Opera House Patron   NaN\n"
     ]
    }
   ],
   "source": [
    "print(casts.head())"
   ]
  },
  {
   "cell_type": "markdown",
   "metadata": {},
   "source": [
    "#ler ficheiro titles.csv para dataframe titles"
   ]
  },
  {
   "cell_type": "code",
   "execution_count": 8,
   "metadata": {},
   "outputs": [],
   "source": [
    "titles = pd.read_csv('titles.csv', index_col =None)"
   ]
  },
  {
   "cell_type": "markdown",
   "metadata": {},
   "source": [
    "#imprimir as cinco últimas linhas do dataframe titles"
   ]
  },
  {
   "cell_type": "code",
   "execution_count": 6,
   "metadata": {},
   "outputs": [
    {
     "name": "stdout",
     "output_type": "stream",
     "text": [
      "                      title  year\n",
      "49995                 Rebel  1970\n",
      "49996               Suzanne  1996\n",
      "49997                 Bomba  2013\n",
      "49998  Aao Jao Ghar Tumhara  1984\n",
      "49999            Mrs. Munck  1995\n"
     ]
    }
   ],
   "source": [
    "print(titles.tail())"
   ]
  },
  {
   "cell_type": "markdown",
   "metadata": {},
   "source": [
    "#alterar numero de linhas e colunas a visualizar sempre que se imprime todo o dataframe"
   ]
  },
  {
   "cell_type": "code",
   "execution_count": 10,
   "metadata": {},
   "outputs": [
    {
     "name": "stdout",
     "output_type": "stream",
     "text": [
      "                         title  year\n",
      "0               The Rising Son  1990\n",
      "1      The Thousand Plane Raid  1969\n",
      "2             Crucea de piatra  1993\n",
      "3                      Country  2000\n",
      "4                   Gaiking II  2011\n",
      "...                        ...   ...\n",
      "49995                    Rebel  1970\n",
      "49996                  Suzanne  1996\n",
      "49997                    Bomba  2013\n",
      "49998     Aao Jao Ghar Tumhara  1984\n",
      "49999               Mrs. Munck  1995\n",
      "\n",
      "[50000 rows x 2 columns]\n"
     ]
    }
   ],
   "source": [
    "pd.set_option('display.max_rows', 10, 'display.max_columns', 10)\n",
    "print(titles)"
   ]
  },
  {
   "cell_type": "markdown",
   "metadata": {},
   "source": [
    "#atribuir à variável tamanho o numero total d linhas do dataframe titles\n",
    "#imprimir tamanho"
   ]
  },
  {
   "cell_type": "code",
   "execution_count": 12,
   "metadata": {},
   "outputs": [
    {
     "name": "stdout",
     "output_type": "stream",
     "text": [
      "50000\n"
     ]
    }
   ],
   "source": [
    "tamanho=len(titles)\n",
    "print(tamanho)"
   ]
  },
  {
   "cell_type": "markdown",
   "metadata": {},
   "source": [
    "#imprimir primeiras três linhas do dataframe titles "
   ]
  },
  {
   "cell_type": "code",
   "execution_count": 13,
   "metadata": {},
   "outputs": [
    {
     "name": "stdout",
     "output_type": "stream",
     "text": [
      "                     title  year\n",
      "0           The Rising Son  1990\n",
      "1  The Thousand Plane Raid  1969\n",
      "2         Crucea de piatra  1993\n"
     ]
    }
   ],
   "source": [
    "print(titles.head(3))"
   ]
  },
  {
   "cell_type": "markdown",
   "metadata": {},
   "source": [
    "#obter serie t a partir do dataframe titles selecionando a coluna title \n",
    "#imprimir tipo de dados de t"
   ]
  },
  {
   "cell_type": "code",
   "execution_count": 21,
   "metadata": {},
   "outputs": [
    {
     "name": "stdout",
     "output_type": "stream",
     "text": [
      "<class 'pandas.core.series.Series'>\n"
     ]
    }
   ],
   "source": [
    "t = titles['title']\n",
    "print(type(t))"
   ]
  },
  {
   "cell_type": "markdown",
   "metadata": {},
   "source": [
    "Obter informação geral do dataframe casts"
   ]
  },
  {
   "cell_type": "code",
   "execution_count": 22,
   "metadata": {},
   "outputs": [
    {
     "name": "stdout",
     "output_type": "stream",
     "text": [
      "<class 'pandas.core.frame.DataFrame'>\n",
      "RangeIndex: 75001 entries, 0 to 75000\n",
      "Data columns (total 6 columns):\n",
      " #   Column     Non-Null Count  Dtype  \n",
      "---  ------     --------------  -----  \n",
      " 0   title      75000 non-null  object \n",
      " 1   year       75001 non-null  int64  \n",
      " 2   name       75001 non-null  object \n",
      " 3   type       75001 non-null  object \n",
      " 4   character  75001 non-null  object \n",
      " 5   n          46035 non-null  float64\n",
      "dtypes: float64(1), int64(1), object(4)\n",
      "memory usage: 3.4+ MB\n"
     ]
    }
   ],
   "source": [
    "casts.info()"
   ]
  },
  {
   "cell_type": "markdown",
   "metadata": {},
   "source": [
    "#imprimir linha de indice 0 no dataframe titles"
   ]
  },
  {
   "cell_type": "code",
   "execution_count": 23,
   "metadata": {},
   "outputs": [
    {
     "name": "stdout",
     "output_type": "stream",
     "text": [
      "title    The Rising Son\n",
      "year               1990\n",
      "Name: 0, dtype: object\n"
     ]
    }
   ],
   "source": [
    "print(titles.iloc[0])"
   ]
  }
 ],
 "metadata": {
  "kernelspec": {
   "display_name": "Python 3",
   "language": "python",
   "name": "python3"
  },
  "language_info": {
   "codemirror_mode": {
    "name": "ipython",
    "version": 3
   },
   "file_extension": ".py",
   "mimetype": "text/x-python",
   "name": "python",
   "nbconvert_exporter": "python",
   "pygments_lexer": "ipython3",
   "version": "3.11.9"
  }
 },
 "nbformat": 4,
 "nbformat_minor": 2
}
