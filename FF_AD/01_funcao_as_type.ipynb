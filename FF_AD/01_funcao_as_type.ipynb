{
 "cells": [
  {
   "cell_type": "code",
   "execution_count": null,
   "metadata": {},
   "outputs": [],
   "source": [
    "Tratamento e Análise de Dados com PANDAS\n",
    "\n",
    "Função astype()"
   ]
  },
  {
   "cell_type": "code",
   "execution_count": 1,
   "metadata": {},
   "outputs": [
    {
     "name": "stdout",
     "output_type": "stream",
     "text": [
      "A     int64\n",
      "B    object\n",
      "dtype: object\n",
      "A    int64\n",
      "B    int64\n",
      "dtype: object\n"
     ]
    }
   ],
   "source": [
    "import pandas as pd \n",
    "\n",
    "# Criando um DataFrame\n",
    "df = pd.DataFrame({'A': [1, 2, 3], 'B': ['4', '5', '6']})\n",
    "#mostra o tipo de dados antes da conversão\n",
    "print(df.dtypes)\n",
    "#conversao da coluna 'B' para inteiro\n",
    "df['B'] = df['B'].astype(int)\n",
    "#mostra o tipo de dados depois da conversão\n",
    "print(df.dtypes)"
   ]
  },
  {
   "cell_type": "markdown",
   "metadata": {},
   "source": [
    "A função astype() pode ser aplicada a um DataFrame ou a uma série específica. Pode converter entre vários tipos, como int, float, bool, datetime e categorical."
   ]
  },
  {
   "cell_type": "code",
   "execution_count": 2,
   "metadata": {},
   "outputs": [
    {
     "name": "stdout",
     "output_type": "stream",
     "text": [
      "A    float64\n",
      "B      int64\n",
      "dtype: object\n"
     ]
    }
   ],
   "source": [
    "df[\"A\"]=df[\"A\"].astype(float)\n",
    "print(df.dtypes)"
   ]
  }
 ],
 "metadata": {
  "kernelspec": {
   "display_name": "Python 3",
   "language": "python",
   "name": "python3"
  },
  "language_info": {
   "codemirror_mode": {
    "name": "ipython",
    "version": 3
   },
   "file_extension": ".py",
   "mimetype": "text/x-python",
   "name": "python",
   "nbconvert_exporter": "python",
   "pygments_lexer": "ipython3",
   "version": "3.11.9"
  }
 },
 "nbformat": 4,
 "nbformat_minor": 2
}
