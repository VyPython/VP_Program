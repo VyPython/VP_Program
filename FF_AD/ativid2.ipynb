{
 "cells": [
  {
   "cell_type": "code",
   "execution_count": 1,
   "metadata": {},
   "outputs": [
    {
     "name": "stdout",
     "output_type": "stream",
     "text": [
      "<class 'pandas.core.frame.DataFrame'>\n",
      "RangeIndex: 5268 entries, 0 to 5267\n",
      "Data columns (total 13 columns):\n",
      " #   Column        Non-Null Count  Dtype  \n",
      "---  ------        --------------  -----  \n",
      " 0   Date          5268 non-null   object \n",
      " 1   Time          3049 non-null   object \n",
      " 2   Location      5248 non-null   object \n",
      " 3   Operator      5250 non-null   object \n",
      " 4   Flight #      1069 non-null   object \n",
      " 5   Route         3561 non-null   object \n",
      " 6   Type          5241 non-null   object \n",
      " 7   Registration  4933 non-null   object \n",
      " 8   cn/In         4040 non-null   object \n",
      " 9   Aboard        5246 non-null   float64\n",
      " 10  Fatalities    5256 non-null   float64\n",
      " 11  Ground        5246 non-null   float64\n",
      " 12  Summary       4878 non-null   object \n",
      "dtypes: float64(3), object(10)\n",
      "memory usage: 535.2+ KB\n"
     ]
    }
   ],
   "source": [
    "import pandas as pd \n",
    "import matplotlib.pyplot as plt\n",
    "import seaborn as sns\n",
    "import numpy as np\n",
    "\n",
    "df = pd.read_csv('Airplane_Crashes_and_Fatalities_Since_1908.csv')\n",
    "df.info()"
   ]
  },
  {
   "cell_type": "code",
   "execution_count": 2,
   "metadata": {},
   "outputs": [
    {
     "name": "stdout",
     "output_type": "stream",
     "text": [
      "         Date   Time                            Location  \\\n",
      "0  09/17/1908  17:18                 Fort Myer, Virginia   \n",
      "1  07/12/1912  06:30             AtlantiCity, New Jersey   \n",
      "2  08/06/1913    NaN  Victoria, British Columbia, Canada   \n",
      "3  09/09/1913  18:30                  Over the North Sea   \n",
      "4  10/17/1913  10:30          Near Johannisthal, Germany   \n",
      "\n",
      "                 Operator Flight #          Route                    Type  \\\n",
      "0    Military - U.S. Army      NaN  Demonstration        Wright Flyer III   \n",
      "1    Military - U.S. Navy      NaN    Test flight               Dirigible   \n",
      "2                 Private        -            NaN        Curtiss seaplane   \n",
      "3  Military - German Navy      NaN            NaN  Zeppelin L-1 (airship)   \n",
      "4  Military - German Navy      NaN            NaN  Zeppelin L-2 (airship)   \n",
      "\n",
      "  Registration cn/In  Aboard  Fatalities  Ground  \\\n",
      "0          NaN     1     2.0         1.0     0.0   \n",
      "1          NaN   NaN     5.0         5.0     0.0   \n",
      "2          NaN   NaN     1.0         1.0     0.0   \n",
      "3          NaN   NaN    20.0        14.0     0.0   \n",
      "4          NaN   NaN    30.0        30.0     0.0   \n",
      "\n",
      "                                             Summary  \n",
      "0  During a demonstration flight, a U.S. Army fly...  \n",
      "1  First U.S. dirigible Akron exploded just offsh...  \n",
      "2  The first fatal airplane accident in Canada oc...  \n",
      "3  The airship flew into a thunderstorm and encou...  \n",
      "4  Hydrogen gas which was being vented was sucked...  \n",
      "            Date   Time                                           Location  \\\n",
      "5263  05/20/2009  06:30                             Near Madiun, Indonesia   \n",
      "5264  05/26/2009    NaN                  Near Isiro, DemocratiRepubliCongo   \n",
      "5265  06/01/2009  00:15  AtlantiOcean, 570 miles northeast of Natal, Br...   \n",
      "5266  06/07/2009  08:30       Near Port Hope Simpson, Newfoundland, Canada   \n",
      "5267  06/08/2009    NaN                  State of Arunachal Pradesh, India   \n",
      "\n",
      "                             Operator Flight #  \\\n",
      "5263  Military - Indonesian Air Force      NaN   \n",
      "5264                      Service Air      NaN   \n",
      "5265                       Air France      447   \n",
      "5266                       Strait Air      NaN   \n",
      "5267      Military - Indian Air Force      NaN   \n",
      "\n",
      "                                          Route  \\\n",
      "5263                           Jakarta - Maduin   \n",
      "5264                               Goma - Isiro   \n",
      "5265                     Rio de Janeiro - Paris   \n",
      "5266  Lourdes de BlanSablon - Port Hope Simpson   \n",
      "5267                         Mechuka for Jorhat   \n",
      "\n",
      "                                  Type Registration cn/In  Aboard  Fatalities  \\\n",
      "5263           Lockheed C-130 Hercules       A-1325  1982   112.0        98.0   \n",
      "5264                     Antonov An-26       9Q-CSA  5005     4.0         4.0   \n",
      "5265                   Airbus A330-203       F-GZCP   660   228.0       228.0   \n",
      "5266  Britten-Norman BN-2A-27 Islander      C-FJJR    424     1.0         1.0   \n",
      "5267                     Antonov An-32          NaN   NaN    13.0        13.0   \n",
      "\n",
      "      Ground                                            Summary  \n",
      "5263     2.0  While on approach, the military transport cras...  \n",
      "5264     NaN  The cargo plane crashed while on approach to I...  \n",
      "5265     0.0  The Airbus went missing over the AtlantiOcean ...  \n",
      "5266     0.0  The air ambulance crashed into hills while att...  \n",
      "5267     0.0  The military transport went missing while en r...  \n"
     ]
    }
   ],
   "source": [
    "print(df.head())\n",
    "print(df.tail())"
   ]
  },
  {
   "cell_type": "code",
   "execution_count": 3,
   "metadata": {},
   "outputs": [
    {
     "name": "stdout",
     "output_type": "stream",
     "text": [
      "Date            False\n",
      "Time             True\n",
      "Location         True\n",
      "Operator         True\n",
      "Flight #         True\n",
      "Route            True\n",
      "Type             True\n",
      "Registration     True\n",
      "cn/In            True\n",
      "Aboard           True\n",
      "Fatalities       True\n",
      "Ground           True\n",
      "Summary          True\n",
      "dtype: bool\n"
     ]
    }
   ],
   "source": [
    "print(df.isnull().any())"
   ]
  },
  {
   "cell_type": "code",
   "execution_count": 4,
   "metadata": {},
   "outputs": [
    {
     "name": "stdout",
     "output_type": "stream",
     "text": [
      "Date             object\n",
      "Time             object\n",
      "Location         object\n",
      "Operator         object\n",
      "Flight #         object\n",
      "Route            object\n",
      "Type             object\n",
      "Registration     object\n",
      "cn/In            object\n",
      "Aboard          float64\n",
      "Fatalities      float64\n",
      "Ground          float64\n",
      "Summary          object\n",
      "dtype: object\n"
     ]
    }
   ],
   "source": [
    "print(df.dtypes)"
   ]
  },
  {
   "cell_type": "code",
   "execution_count": 5,
   "metadata": {},
   "outputs": [
    {
     "name": "stdout",
     "output_type": "stream",
     "text": [
      "            Aboard   Fatalities       Ground\n",
      "count  5246.000000  5256.000000  5246.000000\n",
      "mean     27.554518    20.068303     1.608845\n",
      "std      43.076711    33.199952    53.987827\n",
      "min       0.000000     0.000000     0.000000\n",
      "25%       5.000000     3.000000     0.000000\n",
      "50%      13.000000     9.000000     0.000000\n",
      "75%      30.000000    23.000000     0.000000\n",
      "max     644.000000   583.000000  2750.000000\n"
     ]
    }
   ],
   "source": [
    "print(df.describe())"
   ]
  }
 ],
 "metadata": {
  "kernelspec": {
   "display_name": "Python 3",
   "language": "python",
   "name": "python3"
  },
  "language_info": {
   "codemirror_mode": {
    "name": "ipython",
    "version": 3
   },
   "file_extension": ".py",
   "mimetype": "text/x-python",
   "name": "python",
   "nbconvert_exporter": "python",
   "pygments_lexer": "ipython3",
   "version": "3.11.9"
  }
 },
 "nbformat": 4,
 "nbformat_minor": 2
}
