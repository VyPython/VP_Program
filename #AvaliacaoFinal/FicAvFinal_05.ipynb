{
 "cells": [
  {
   "cell_type": "markdown",
   "metadata": {},
   "source": [
    "5. Usando as bibliotecas Pandas e MatPlotLib e um dataset (podes selecionar das aulas, fazer download na plataforma kaggle ou escolher um dataset pessoal), elabora um notebook jupyter no qual efetues: \n",
    "Limpeza e tratamento de dados; \n",
    "Processamento de dados: groupby, filter, criação de novas colunas,…; \n",
    "Visualização de dados;\n",
    "\n",
    "Considerações:\n",
    "Primeiro fazer a importação das bibliotecas e carregar o dataset e exibição das primeiras e ultimas linhas do ficheiro\n",
    "Seguidamente Limpeza e tratamento dos dados\n",
    "Posteriormente Processar os dados\n",
    "Por último Apresentação dos dados\n"
   ]
  },
  {
   "cell_type": "code",
   "execution_count": null,
   "metadata": {},
   "outputs": [],
   "source": [
    "#importar bibliotecas\n",
    "%matplotlib inline\n",
    "import pandas as pd\n",
    "import matplotlib.pyplot as plt\n",
    "import seaborn as sns\n",
    "import numpy as np\n",
    "\n",
    "\n",
    "#Carregamento do dataset e visualização das primeiras e últimas linhas\n",
    "\n",
    "df = pd.read_csv('titanic.csv')\n",
    "\n",
    "print(df.head())\n",
    "print(df.tail())\n"
   ]
  },
  {
   "cell_type": "markdown",
   "metadata": {},
   "source": [
    "Verificar o tipo de dados"
   ]
  },
  {
   "cell_type": "code",
   "execution_count": null,
   "metadata": {},
   "outputs": [],
   "source": [
    "print(df.info())"
   ]
  },
  {
   "cell_type": "markdown",
   "metadata": {},
   "source": [
    "Limpeza e tratamento dos dados\n",
    "Verificar valores nulos, embora no comando anterior já se via que não existem\n",
    "Verificar se existem outliers"
   ]
  },
  {
   "cell_type": "code",
   "execution_count": null,
   "metadata": {},
   "outputs": [],
   "source": [
    "print(df.isnull().any())\n"
   ]
  },
  {
   "cell_type": "markdown",
   "metadata": {},
   "source": [
    "Criar um novo dataframe (df2) sem a coluna cabin que contém valor nulos"
   ]
  },
  {
   "cell_type": "code",
   "execution_count": null,
   "metadata": {},
   "outputs": [],
   "source": [
    "df2 = df.drop('Cabin',axis=1)\n",
    "df2.info()"
   ]
  },
  {
   "cell_type": "markdown",
   "metadata": {},
   "source": [
    "Como  existem valores nulos na coluna 'Age'\n",
    "Substituir valores nulos na idade, pela média de idades, com este comando \n",
    "ver média e mediana da idade"
   ]
  },
  {
   "cell_type": "code",
   "execution_count": null,
   "metadata": {},
   "outputs": [],
   "source": [
    "\n",
    "df2['Age'].fillna(df2['Age'].mean(), inplace=True)\n",
    "media_idade = df2['Age'].mean()\n",
    "mediana_idade = df2['Age'].median()\n",
    "\n",
    "print(media_idade)\n",
    "print(mediana_idade)\n"
   ]
  },
  {
   "cell_type": "markdown",
   "metadata": {},
   "source": [
    "Análise do tipo de embarque com contagem por Id de passageiro"
   ]
  },
  {
   "cell_type": "code",
   "execution_count": null,
   "metadata": {},
   "outputs": [],
   "source": [
    "print(df2.groupby('Embarked')[\"PassengerId\"].count())"
   ]
  },
  {
   "cell_type": "markdown",
   "metadata": {},
   "source": [
    "Preencher as duas linhas na coluna  'Embarked' com valores nunlos com  o comando:"
   ]
  },
  {
   "cell_type": "code",
   "execution_count": null,
   "metadata": {},
   "outputs": [],
   "source": [
    "df2['Embarked'].fillna('S', inplace=True)\n",
    "print(df2.info())"
   ]
  },
  {
   "cell_type": "markdown",
   "metadata": {},
   "source": [
    "\n",
    "Verificar se ainda existem  valores nulos, com o comando seguinte:"
   ]
  },
  {
   "cell_type": "code",
   "execution_count": null,
   "metadata": {},
   "outputs": [],
   "source": [
    "\n",
    "print(df2.isnull().sum())"
   ]
  },
  {
   "cell_type": "markdown",
   "metadata": {},
   "source": [
    "Criar um ficheiro sem dados nulos"
   ]
  },
  {
   "cell_type": "code",
   "execution_count": 68,
   "metadata": {},
   "outputs": [],
   "source": [
    "df2.to_csv('titanic_no_nulls.csv', index=False)"
   ]
  },
  {
   "cell_type": "markdown",
   "metadata": {},
   "source": [
    "Processamento dos dados:\n",
    "Criar uma nova coluna 'FamilySize' (SibSp + Parch + 1)\n",
    "Filtrar passageiros com mais de 3 familiares\n",
    "Agrupar por 'Pclass' e calcular a média de sobrevivência\n",
    "Exibir a média de sobrevivência por classe\n"
   ]
  },
  {
   "cell_type": "code",
   "execution_count": null,
   "metadata": {},
   "outputs": [],
   "source": [
    "df2['FamilySize'] = df2['SibSp'] + df2['Parch'] + 1\n",
    "df_familia_grande = df2[df2['FamilySize'] > 3]\n",
    "sobrevivencia_por_classe = df2.groupby('Pclass')['Survived'].mean()\n",
    "print(sobrevivencia_por_classe)"
   ]
  },
  {
   "cell_type": "markdown",
   "metadata": {},
   "source": [
    "Verificação e eliminação de outliers, se existirem\n",
    "ler o ficheiro sem valores nulos"
   ]
  },
  {
   "cell_type": "code",
   "execution_count": 73,
   "metadata": {},
   "outputs": [],
   "source": [
    "df3 = pd.read_csv('titanic_no_nulls.csv')"
   ]
  },
  {
   "cell_type": "markdown",
   "metadata": {},
   "source": [
    "primeiro passo para identificar outliers é ver uma breve descrição dos dados numéricos"
   ]
  },
  {
   "cell_type": "code",
   "execution_count": null,
   "metadata": {},
   "outputs": [],
   "source": [
    "print(df3.describe())"
   ]
  },
  {
   "cell_type": "markdown",
   "metadata": {},
   "source": [
    "As colunas a analisar são: \"Age\", 'SibSp', 'Parch' e 'Fare'\n",
    "a menor tarifa é negativa(provavelmente um erro)\n",
    "a maior tarifa é um número 10x maior que o terceiro quartil (75%)\n",
    "há algém com a idade de 133 anos, hoje pouco provável. deve tratar-se de um outlier ou erro\n",
    "\n",
    "vamos tratar aqui as anomalias como erros nos dados e vamos remove-los trocando pelo valor médio"
   ]
  },
  {
   "cell_type": "code",
   "execution_count": null,
   "metadata": {},
   "outputs": [],
   "source": [
    "#Análise da idade, primeiros e ultimos 5 valores\n",
    "print(df3.sort_values('Age', ascending=False).head(5)['Age'])\n",
    "print(df3.sort_values('Age', ascending=True).head(5)['Age'])"
   ]
  },
  {
   "cell_type": "code",
   "execution_count": 76,
   "metadata": {},
   "outputs": [],
   "source": [
    "#como a idade de 133 parece um outlier, troca-se pela média de idades\n",
    "media_idade = df3['Age'].mean()\n",
    "df3.loc[df3['Age']==133, 'Age'] = media_idade"
   ]
  },
  {
   "cell_type": "code",
   "execution_count": null,
   "metadata": {},
   "outputs": [],
   "source": [
    "#Análise da tarifa, primeiros e últimos 5 valores\n",
    "print(df3.sort_values('Fare', ascending=False).head(5)['Fare'])\n",
    "print(df3.sort_values('Fare', ascending=True).head(5)['Fare'])"
   ]
  },
  {
   "cell_type": "markdown",
   "metadata": {},
   "source": [
    "Constata-se um valor negativo e um valor 10x superior ao segundo mais caro\n",
    "vamos tratá-los como erros e atualizá-los com o valor da mediana da tarifa\n",
    "usando a mediana em vez da média, que é menos sensível aos outlires"
   ]
  },
  {
   "cell_type": "code",
   "execution_count": null,
   "metadata": {},
   "outputs": [],
   "source": [
    "mediana_tarifa = df3['Fare'].median()\n",
    "df3.loc[df3['Fare']>5000, 'Fare']=mediana_tarifa\n",
    "df3.loc[df3['Fare']<0, 'Fare']=mediana_tarifa\n",
    "\n",
    "print(df3.sort_values('Fare',ascending=False).head(5)['Fare'])\n",
    "print(df3.sort_values('Fare',ascending=True).head(5)['Fare'])"
   ]
  },
  {
   "cell_type": "markdown",
   "metadata": {},
   "source": [
    "Dados estão tratados, guarda-se um novo ficheiro "
   ]
  },
  {
   "cell_type": "code",
   "execution_count": 80,
   "metadata": {},
   "outputs": [],
   "source": [
    "df3.to_csv('titanic_no_nulls_no_outliers.csv', index=False)"
   ]
  },
  {
   "cell_type": "markdown",
   "metadata": {},
   "source": [
    "Apresentação gráfica dos dados sobre:\n",
    "Sobrevivencia por classe - Gráfico de barras\n",
    "Idade vs Tarifa vs sobrevivência - Gráfico de dispersão \n",
    "Distribuição das idades - Historigrama"
   ]
  },
  {
   "cell_type": "code",
   "execution_count": null,
   "metadata": {},
   "outputs": [],
   "source": [
    "# Gráfico de barras: Sobrevivência por classe\n",
    "sobrevivencia_por_classe.plot(kind='bar', color=['skyblue', 'lightgreen', 'salmon'])\n",
    "plt.title('Taxa de Sobrevivência por Classe')\n",
    "plt.xlabel('Classe')\n",
    "plt.ylabel('Taxa de Sobrevivência')\n",
    "plt.xticks(rotation=0)\n",
    "plt.show()\n",
    "\n",
    "# Gráfico de dispersão: Idade vs Tarifa, colorido por sobrevivência\n",
    "plt.scatter(df3['Age'], df3['Fare'], c=df3['Survived'], cmap='coolwarm', alpha=0.6)\n",
    "plt.title('Idade vs. Tarifa (Colorido por Sobrevivência)')\n",
    "plt.xlabel('Idade')\n",
    "plt.ylabel('Tarifa')\n",
    "plt.colorbar(label='Sobreviveu (1 = Sim, 0 = Não)')\n",
    "plt.show()\n",
    "\n",
    "# Histograma: Distribuição de idades\n",
    "plt.hist(df3['Age'], bins=20, color='orange', edgecolor='black')\n",
    "plt.title('Distribuição de Idades')\n",
    "plt.xlabel('Idade')\n",
    "plt.ylabel('Frequência')\n",
    "plt.show()"
   ]
  }
 ],
 "metadata": {
  "kernelspec": {
   "display_name": "Python 3",
   "language": "python",
   "name": "python3"
  },
  "language_info": {
   "codemirror_mode": {
    "name": "ipython",
    "version": 3
   },
   "file_extension": ".py",
   "mimetype": "text/x-python",
   "name": "python",
   "nbconvert_exporter": "python",
   "pygments_lexer": "ipython3",
   "version": "3.11.9"
  }
 },
 "nbformat": 4,
 "nbformat_minor": 2
}
