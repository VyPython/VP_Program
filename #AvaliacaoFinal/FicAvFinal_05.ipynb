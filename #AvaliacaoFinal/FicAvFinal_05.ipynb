{
 "cells": [
  {
   "cell_type": "markdown",
   "metadata": {},
   "source": [
    "5. Usando as bibliotecas Pandas e MatPlotLib e um dataset (podes selecionar das aulas, fazer download na plataforma kaggle ou escolher um dataset pessoal), elabora um notebook jupyter no qual efetues: \n",
    "Limpeza e tratamento de dados; \n",
    "Processamento de dados: groupby, filter, criação de novas colunas,…; \n",
    "Visualização de dados;\n",
    "\n",
    "Considerações:\n",
    "Primeiro fazer a importação das bibliotecas e carregar o dataset e exibição das primeiras e ultimas linhas do ficheiro\n",
    "Seguidamente Limpeza e tratamento dos dados\n",
    "Posteriormente Processar os dados\n"
   ]
  },
  {
   "cell_type": "code",
   "execution_count": 65,
   "metadata": {},
   "outputs": [
    {
     "name": "stdout",
     "output_type": "stream",
     "text": [
      "                                         PassengerId  Survived  Pclass  Name  \\\n",
      "0  1,0.0,3,\"Braund, Mr. Owen Harris\",male,22.0,1,...       NaN     NaN   NaN   \n",
      "1  2,1.0,1,\"Cumings, Mrs. John Bradley (Florence ...       NaN     NaN   NaN   \n",
      "2  3,1.0,3,\"Heikkinen, Miss. Laina\",female,26.0,0...       NaN     NaN   NaN   \n",
      "3  4,1.0,1,\"Futrelle, Mrs. Jacques Heath (Lily Ma...       NaN     NaN   NaN   \n",
      "4  5,0.0,3,\"Allen, Mr. William Henry\",male,35.0,0...       NaN     NaN   NaN   \n",
      "\n",
      "   Sex  Age  SibSp  Parch  Ticket  Fare  ...  Embarked  WikiId  Name_wiki  \\\n",
      "0  NaN  NaN    NaN    NaN     NaN   NaN  ...       NaN     NaN        NaN   \n",
      "1  NaN  NaN    NaN    NaN     NaN   NaN  ...       NaN     NaN        NaN   \n",
      "2  NaN  NaN    NaN    NaN     NaN   NaN  ...       NaN     NaN        NaN   \n",
      "3  NaN  NaN    NaN    NaN     NaN   NaN  ...       NaN     NaN        NaN   \n",
      "4  NaN  NaN    NaN    NaN     NaN   NaN  ...       NaN     NaN        NaN   \n",
      "\n",
      "   Age_wiki  Hometown  Boarded  Destination  Lifeboat  Body  Class  \n",
      "0       NaN       NaN      NaN          NaN       NaN   NaN    NaN  \n",
      "1       NaN       NaN      NaN          NaN       NaN   NaN    NaN  \n",
      "2       NaN       NaN      NaN          NaN       NaN   NaN    NaN  \n",
      "3       NaN       NaN      NaN          NaN       NaN   NaN    NaN  \n",
      "4       NaN       NaN      NaN          NaN       NaN   NaN    NaN  \n",
      "\n",
      "[5 rows x 21 columns]\n",
      "                                           PassengerId  Survived  Pclass  \\\n",
      "886  887,0.0,2,\"Montvila, Rev. Juozas\",male,27.0,0,...       NaN     NaN   \n",
      "887  888,1.0,1,\"Graham, Miss. Margaret Edith\",femal...       NaN     NaN   \n",
      "888  889,0.0,3,\"Johnston, Miss. Catherine Helen \"\"C...       NaN     NaN   \n",
      "889  890,1.0,1,\"Behr, Mr. Karl Howell\",male,26.0,0,...       NaN     NaN   \n",
      "890  891,0.0,3,\"Dooley, Mr. Patrick\",male,32.0,0,0,...       NaN     NaN   \n",
      "\n",
      "     Name  Sex  Age  SibSp  Parch  Ticket  Fare  ...  Embarked  WikiId  \\\n",
      "886   NaN  NaN  NaN    NaN    NaN     NaN   NaN  ...       NaN     NaN   \n",
      "887   NaN  NaN  NaN    NaN    NaN     NaN   NaN  ...       NaN     NaN   \n",
      "888   NaN  NaN  NaN    NaN    NaN     NaN   NaN  ...       NaN     NaN   \n",
      "889   NaN  NaN  NaN    NaN    NaN     NaN   NaN  ...       NaN     NaN   \n",
      "890   NaN  NaN  NaN    NaN    NaN     NaN   NaN  ...       NaN     NaN   \n",
      "\n",
      "     Name_wiki  Age_wiki  Hometown  Boarded  Destination  Lifeboat  Body  \\\n",
      "886        NaN       NaN       NaN      NaN          NaN       NaN   NaN   \n",
      "887        NaN       NaN       NaN      NaN          NaN       NaN   NaN   \n",
      "888        NaN       NaN       NaN      NaN          NaN       NaN   NaN   \n",
      "889        NaN       NaN       NaN      NaN          NaN       NaN   NaN   \n",
      "890        NaN       NaN       NaN      NaN          NaN       NaN   NaN   \n",
      "\n",
      "     Class  \n",
      "886    NaN  \n",
      "887    NaN  \n",
      "888    NaN  \n",
      "889    NaN  \n",
      "890    NaN  \n",
      "\n",
      "[5 rows x 21 columns]\n"
     ]
    }
   ],
   "source": [
    "import pandas as pd\n",
    "import matplotlib.pyplot as plt\n",
    "\n",
    "#Carregamento do dataset e visualização das primeiras e últimas linhas\n",
    "\n",
    "df = pd.read_csv('titanic.csv')\n",
    "\n",
    "print(df.head())\n",
    "print(df.tail())\n"
   ]
  },
  {
   "cell_type": "markdown",
   "metadata": {},
   "source": [
    "verificar tipos de dados"
   ]
  },
  {
   "cell_type": "code",
   "execution_count": 66,
   "metadata": {},
   "outputs": [
    {
     "name": "stdout",
     "output_type": "stream",
     "text": [
      "<class 'pandas.core.frame.DataFrame'>\n",
      "RangeIndex: 891 entries, 0 to 890\n",
      "Data columns (total 21 columns):\n",
      " #   Column       Non-Null Count  Dtype  \n",
      "---  ------       --------------  -----  \n",
      " 0   PassengerId  891 non-null    object \n",
      " 1   Survived     0 non-null      float64\n",
      " 2   Pclass       0 non-null      float64\n",
      " 3   Name         0 non-null      float64\n",
      " 4   Sex          0 non-null      float64\n",
      " 5   Age          0 non-null      float64\n",
      " 6   SibSp        0 non-null      float64\n",
      " 7   Parch        0 non-null      float64\n",
      " 8   Ticket       0 non-null      float64\n",
      " 9   Fare         0 non-null      float64\n",
      " 10  Cabin        0 non-null      float64\n",
      " 11  Embarked     0 non-null      float64\n",
      " 12  WikiId       0 non-null      float64\n",
      " 13  Name_wiki    0 non-null      float64\n",
      " 14  Age_wiki     0 non-null      float64\n",
      " 15  Hometown     0 non-null      float64\n",
      " 16  Boarded      0 non-null      float64\n",
      " 17  Destination  0 non-null      float64\n",
      " 18  Lifeboat     0 non-null      float64\n",
      " 19  Body         0 non-null      float64\n",
      " 20  Class        0 non-null      float64\n",
      "dtypes: float64(20), object(1)\n",
      "memory usage: 146.3+ KB\n",
      "None\n"
     ]
    }
   ],
   "source": [
    "print(df.info())"
   ]
  },
  {
   "cell_type": "markdown",
   "metadata": {},
   "source": [
    "Limpeza e trataemnto dos dados\n",
    "Verificar valores nulos, embora no comando anterior já se via que não existem"
   ]
  },
  {
   "cell_type": "code",
   "execution_count": 67,
   "metadata": {},
   "outputs": [
    {
     "name": "stdout",
     "output_type": "stream",
     "text": [
      "PassengerId    False\n",
      "Survived        True\n",
      "Pclass          True\n",
      "Name            True\n",
      "Sex             True\n",
      "Age             True\n",
      "SibSp           True\n",
      "Parch           True\n",
      "Ticket          True\n",
      "Fare            True\n",
      "Cabin           True\n",
      "Embarked        True\n",
      "WikiId          True\n",
      "Name_wiki       True\n",
      "Age_wiki        True\n",
      "Hometown        True\n",
      "Boarded         True\n",
      "Destination     True\n",
      "Lifeboat        True\n",
      "Body            True\n",
      "Class           True\n",
      "dtype: bool\n"
     ]
    }
   ],
   "source": [
    "print(df.isnull().any())\n"
   ]
  },
  {
   "cell_type": "markdown",
   "metadata": {},
   "source": [
    "Validar se existem valores nulos\n",
    "ver média e mediana da idade\n",
    "Substituir valores nulos na idade com este comando para substituir os nulos\n"
   ]
  },
  {
   "cell_type": "code",
   "execution_count": 72,
   "metadata": {},
   "outputs": [
    {
     "name": "stdout",
     "output_type": "stream",
     "text": [
      "nan\n",
      "nan\n"
     ]
    },
    {
     "name": "stderr",
     "output_type": "stream",
     "text": [
      "C:\\Users\\vpereira.COFINA\\AppData\\Local\\Temp\\ipykernel_636\\984115498.py:1: FutureWarning: A value is trying to be set on a copy of a DataFrame or Series through chained assignment using an inplace method.\n",
      "The behavior will change in pandas 3.0. This inplace method will never work because the intermediate object on which we are setting values always behaves as a copy.\n",
      "\n",
      "For example, when doing 'df[col].method(value, inplace=True)', try using 'df.method({col: value}, inplace=True)' or df[col] = df[col].method(value) instead, to perform the operation inplace on the original object.\n",
      "\n",
      "\n",
      "  df['Age'].fillna(df['Age'].mean(), inplace=True)\n",
      "C:\\Users\\vpereira.COFINA\\AppData\\Local\\Packages\\PythonSoftwareFoundation.Python.3.11_qbz5n2kfra8p0\\LocalCache\\local-packages\\Python311\\site-packages\\numpy\\lib\\_nanfunctions_impl.py:1215: RuntimeWarning: Mean of empty slice\n",
      "  return np.nanmean(a, axis, out=out, keepdims=keepdims)\n"
     ]
    }
   ],
   "source": [
    "\n",
    "df['Age'].fillna(df['Age'].mean(), inplace=True)\n",
    "media_idade = df['Age'].mean()\n",
    "mediana_idade = df['Age'].median()\n",
    "\n",
    "print(media_idade)\n",
    "print(mediana_idade)\n"
   ]
  },
  {
   "cell_type": "markdown",
   "metadata": {},
   "source": [
    "Remover a coluna Cabin que tem valores nulos "
   ]
  },
  {
   "cell_type": "code",
   "execution_count": 69,
   "metadata": {},
   "outputs": [],
   "source": [
    "df.drop('Cabin', axis=1, inplace=True)"
   ]
  },
  {
   "cell_type": "markdown",
   "metadata": {},
   "source": [
    "Remover a coluna  'Embarked' com valores nunlos com  o comando:\n"
   ]
  },
  {
   "cell_type": "code",
   "execution_count": 52,
   "metadata": {},
   "outputs": [],
   "source": [
    "df.dropna(subset=['Embarked'], inplace=True)"
   ]
  },
  {
   "cell_type": "markdown",
   "metadata": {},
   "source": [
    "\n",
    "Para verificar quantos são os valores nulos, com o comando seguinte:"
   ]
  },
  {
   "cell_type": "code",
   "execution_count": 70,
   "metadata": {},
   "outputs": [
    {
     "name": "stdout",
     "output_type": "stream",
     "text": [
      "PassengerId      0\n",
      "Survived       891\n",
      "Pclass         891\n",
      "Name           891\n",
      "Sex            891\n",
      "Age            891\n",
      "SibSp          891\n",
      "Parch          891\n",
      "Ticket         891\n",
      "Fare           891\n",
      "Embarked       891\n",
      "WikiId         891\n",
      "Name_wiki      891\n",
      "Age_wiki       891\n",
      "Hometown       891\n",
      "Boarded        891\n",
      "Destination    891\n",
      "Lifeboat       891\n",
      "Body           891\n",
      "Class          891\n",
      "dtype: int64\n"
     ]
    }
   ],
   "source": [
    "\n",
    "print(df.isnull().sum())"
   ]
  },
  {
   "cell_type": "markdown",
   "metadata": {},
   "source": [
    "Processar os dados:\n",
    "Criar uma nova coluna 'FamilySize' (SibSp + Parch + 1)\n",
    "\n",
    "Filtrar passageiros com mais de 3 familiares\n",
    "\n",
    "Agrupar por 'Pclass' e calcular a média de sobrevivência\n",
    "\n",
    "Exibir a média de sobrevivência por classe\n"
   ]
  },
  {
   "cell_type": "code",
   "execution_count": 73,
   "metadata": {},
   "outputs": [
    {
     "name": "stdout",
     "output_type": "stream",
     "text": [
      "Series([], Name: Survived, dtype: float64)\n"
     ]
    }
   ],
   "source": [
    "df['FamilySize'] = df['SibSp'] + df['Parch'] + 1\n",
    "df_familia_grande = df[df['FamilySize'] > 3]\n",
    "sobrevivencia_por_classe = df.groupby('Pclass')['Survived'].mean()\n",
    "print(sobrevivencia_por_classe)"
   ]
  },
  {
   "cell_type": "code",
   "execution_count": 75,
   "metadata": {},
   "outputs": [
    {
     "ename": "OSError",
     "evalue": "'seaborn' is not a valid package style, path of style file, URL of style file, or library style name (library styles are listed in `style.available`)",
     "output_type": "error",
     "traceback": [
      "\u001b[31m---------------------------------------------------------------------------\u001b[39m",
      "\u001b[31mFileNotFoundError\u001b[39m                         Traceback (most recent call last)",
      "\u001b[36mFile \u001b[39m\u001b[32m~\\AppData\\Local\\Packages\\PythonSoftwareFoundation.Python.3.11_qbz5n2kfra8p0\\LocalCache\\local-packages\\Python311\\site-packages\\matplotlib\\style\\core.py:129\u001b[39m, in \u001b[36muse\u001b[39m\u001b[34m(style)\u001b[39m\n\u001b[32m    128\u001b[39m \u001b[38;5;28;01mtry\u001b[39;00m:\n\u001b[32m--> \u001b[39m\u001b[32m129\u001b[39m     style = \u001b[43m_rc_params_in_file\u001b[49m\u001b[43m(\u001b[49m\u001b[43mstyle\u001b[49m\u001b[43m)\u001b[49m\n\u001b[32m    130\u001b[39m \u001b[38;5;28;01mexcept\u001b[39;00m \u001b[38;5;167;01mOSError\u001b[39;00m \u001b[38;5;28;01mas\u001b[39;00m err:\n",
      "\u001b[36mFile \u001b[39m\u001b[32m~\\AppData\\Local\\Packages\\PythonSoftwareFoundation.Python.3.11_qbz5n2kfra8p0\\LocalCache\\local-packages\\Python311\\site-packages\\matplotlib\\__init__.py:903\u001b[39m, in \u001b[36m_rc_params_in_file\u001b[39m\u001b[34m(fname, transform, fail_on_error)\u001b[39m\n\u001b[32m    902\u001b[39m rc_temp = {}\n\u001b[32m--> \u001b[39m\u001b[32m903\u001b[39m \u001b[43m\u001b[49m\u001b[38;5;28;43;01mwith\u001b[39;49;00m\u001b[43m \u001b[49m\u001b[43m_open_file_or_url\u001b[49m\u001b[43m(\u001b[49m\u001b[43mfname\u001b[49m\u001b[43m)\u001b[49m\u001b[43m \u001b[49m\u001b[38;5;28;43;01mas\u001b[39;49;00m\u001b[43m \u001b[49m\u001b[43mfd\u001b[49m\u001b[43m:\u001b[49m\n\u001b[32m    904\u001b[39m \u001b[43m    \u001b[49m\u001b[38;5;28;43;01mtry\u001b[39;49;00m\u001b[43m:\u001b[49m\n",
      "\u001b[36mFile \u001b[39m\u001b[32mC:\\Program Files\\WindowsApps\\PythonSoftwareFoundation.Python.3.11_3.11.2544.0_x64__qbz5n2kfra8p0\\Lib\\contextlib.py:137\u001b[39m, in \u001b[36m_GeneratorContextManager.__enter__\u001b[39m\u001b[34m(self)\u001b[39m\n\u001b[32m    136\u001b[39m \u001b[38;5;28;01mtry\u001b[39;00m:\n\u001b[32m--> \u001b[39m\u001b[32m137\u001b[39m     \u001b[38;5;28;01mreturn\u001b[39;00m \u001b[38;5;28mnext\u001b[39m(\u001b[38;5;28mself\u001b[39m.gen)\n\u001b[32m    138\u001b[39m \u001b[38;5;28;01mexcept\u001b[39;00m \u001b[38;5;167;01mStopIteration\u001b[39;00m:\n",
      "\u001b[36mFile \u001b[39m\u001b[32m~\\AppData\\Local\\Packages\\PythonSoftwareFoundation.Python.3.11_qbz5n2kfra8p0\\LocalCache\\local-packages\\Python311\\site-packages\\matplotlib\\__init__.py:880\u001b[39m, in \u001b[36m_open_file_or_url\u001b[39m\u001b[34m(fname)\u001b[39m\n\u001b[32m    879\u001b[39m fname = os.path.expanduser(fname)\n\u001b[32m--> \u001b[39m\u001b[32m880\u001b[39m \u001b[38;5;28;01mwith\u001b[39;00m \u001b[38;5;28mopen\u001b[39m(fname, encoding=\u001b[33m'\u001b[39m\u001b[33mutf-8\u001b[39m\u001b[33m'\u001b[39m) \u001b[38;5;28;01mas\u001b[39;00m f:\n\u001b[32m    881\u001b[39m     \u001b[38;5;28;01myield\u001b[39;00m f\n",
      "\u001b[31mFileNotFoundError\u001b[39m: [Errno 2] No such file or directory: 'seaborn'",
      "\nThe above exception was the direct cause of the following exception:\n",
      "\u001b[31mOSError\u001b[39m                                   Traceback (most recent call last)",
      "\u001b[36mCell\u001b[39m\u001b[36m \u001b[39m\u001b[32mIn[75]\u001b[39m\u001b[32m, line 2\u001b[39m\n\u001b[32m      1\u001b[39m \u001b[38;5;66;03m# Configuração do estilo dos gráficos\u001b[39;00m\n\u001b[32m----> \u001b[39m\u001b[32m2\u001b[39m \u001b[43mplt\u001b[49m\u001b[43m.\u001b[49m\u001b[43mstyle\u001b[49m\u001b[43m.\u001b[49m\u001b[43muse\u001b[49m\u001b[43m(\u001b[49m\u001b[33;43m'\u001b[39;49m\u001b[33;43mseaborn\u001b[39;49m\u001b[33;43m'\u001b[39;49m\u001b[43m)\u001b[49m\n\u001b[32m      4\u001b[39m \u001b[38;5;66;03m# Gráfico de barras: Sobrevivência por classe\u001b[39;00m\n\u001b[32m      5\u001b[39m sobrevivencia_por_classe.plot(kind=\u001b[33m'\u001b[39m\u001b[33mbar\u001b[39m\u001b[33m'\u001b[39m, color=[\u001b[33m'\u001b[39m\u001b[33mskyblue\u001b[39m\u001b[33m'\u001b[39m, \u001b[33m'\u001b[39m\u001b[33mlightgreen\u001b[39m\u001b[33m'\u001b[39m, \u001b[33m'\u001b[39m\u001b[33msalmon\u001b[39m\u001b[33m'\u001b[39m])\n",
      "\u001b[36mFile \u001b[39m\u001b[32m~\\AppData\\Local\\Packages\\PythonSoftwareFoundation.Python.3.11_qbz5n2kfra8p0\\LocalCache\\local-packages\\Python311\\site-packages\\matplotlib\\style\\core.py:131\u001b[39m, in \u001b[36muse\u001b[39m\u001b[34m(style)\u001b[39m\n\u001b[32m    129\u001b[39m         style = _rc_params_in_file(style)\n\u001b[32m    130\u001b[39m     \u001b[38;5;28;01mexcept\u001b[39;00m \u001b[38;5;167;01mOSError\u001b[39;00m \u001b[38;5;28;01mas\u001b[39;00m err:\n\u001b[32m--> \u001b[39m\u001b[32m131\u001b[39m         \u001b[38;5;28;01mraise\u001b[39;00m \u001b[38;5;167;01mOSError\u001b[39;00m(\n\u001b[32m    132\u001b[39m             \u001b[33mf\u001b[39m\u001b[33m\"\u001b[39m\u001b[38;5;132;01m{\u001b[39;00mstyle\u001b[38;5;132;01m!r}\u001b[39;00m\u001b[33m is not a valid package style, path of style \u001b[39m\u001b[33m\"\u001b[39m\n\u001b[32m    133\u001b[39m             \u001b[33mf\u001b[39m\u001b[33m\"\u001b[39m\u001b[33mfile, URL of style file, or library style name (library \u001b[39m\u001b[33m\"\u001b[39m\n\u001b[32m    134\u001b[39m             \u001b[33mf\u001b[39m\u001b[33m\"\u001b[39m\u001b[33mstyles are listed in `style.available`)\u001b[39m\u001b[33m\"\u001b[39m) \u001b[38;5;28;01mfrom\u001b[39;00m\u001b[38;5;250m \u001b[39m\u001b[34;01merr\u001b[39;00m\n\u001b[32m    135\u001b[39m filtered = {}\n\u001b[32m    136\u001b[39m \u001b[38;5;28;01mfor\u001b[39;00m k \u001b[38;5;129;01min\u001b[39;00m style:  \u001b[38;5;66;03m# don't trigger RcParams.__getitem__('backend')\u001b[39;00m\n",
      "\u001b[31mOSError\u001b[39m: 'seaborn' is not a valid package style, path of style file, URL of style file, or library style name (library styles are listed in `style.available`)"
     ]
    }
   ],
   "source": [
    "# Configuração do estilo dos gráficos\n",
    "plt.style.use('seaborn')\n",
    "\n",
    "# Gráfico de barras: Sobrevivência por classe\n",
    "sobrevivencia_por_classe.plot(kind='bar', color=['skyblue', 'lightgreen', 'salmon'])\n",
    "plt.title('Taxa de Sobrevivência por Classe')\n",
    "plt.xlabel('Classe')\n",
    "plt.ylabel('Taxa de Sobrevivência')\n",
    "plt.xticks(rotation=0)\n",
    "plt.show()\n",
    "\n",
    "# Gráfico de dispersão: Idade vs. Tarifa, colorido por sobrevivência\n",
    "plt.scatter(df['Age'], df['Fare'], c=df['Survived'], cmap='coolwarm', alpha=0.6)\n",
    "plt.title('Idade vs. Tarifa (Colorido por Sobrevivência)')\n",
    "plt.xlabel('Idade')\n",
    "plt.ylabel('Tarifa')\n",
    "plt.colorbar(label='Sobreviveu (1 = Sim, 0 = Não)')\n",
    "plt.show()\n",
    "\n",
    "# Histograma: Distribuição de idades\n",
    "plt.hist(df['Age'], bins=20, color='orange', edgecolor='black')\n",
    "plt.title('Distribuição de Idades')\n",
    "plt.xlabel('Idade')\n",
    "plt.ylabel('Frequência')\n",
    "plt.show()"
   ]
  }
 ],
 "metadata": {
  "kernelspec": {
   "display_name": "Python 3",
   "language": "python",
   "name": "python3"
  },
  "language_info": {
   "codemirror_mode": {
    "name": "ipython",
    "version": 3
   },
   "file_extension": ".py",
   "mimetype": "text/x-python",
   "name": "python",
   "nbconvert_exporter": "python",
   "pygments_lexer": "ipython3",
   "version": "3.11.9"
  }
 },
 "nbformat": 4,
 "nbformat_minor": 2
}
