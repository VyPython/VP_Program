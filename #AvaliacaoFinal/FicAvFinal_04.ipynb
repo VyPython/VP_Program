{
 "cells": [
  {
   "cell_type": "markdown",
   "metadata": {},
   "source": [
    "4. Utilizando a biblioteca NumPy :\n",
    "a. Cria um array de números 1 com shape (8, 2)\n",
    "b. Cria um array de zeros com shape (5, 7)\n",
    "c. Subtraia o novo array de outro com dados aleatórios e armazene o numa variável chamada subarray\n",
    "d. Calcula a média dos valores do array subarray\n",
    "\n",
    "Considerações:\n",
    "Criar array de números 1 com 8 colunas e 2 linhas e respetivo print\n",
    "Criar o array de zeros com 5 linhas e 7 colunas e respetivo print\n",
    "Criar um array aleatório com 5 linhas e 7 colunas para subtrair ao array dos zeros e respetiva impressão\n",
    "Os arrays vão dar o mesmo resultado\n",
    "Por fim calcular a média"
   ]
  },
  {
   "cell_type": "code",
   "execution_count": 3,
   "metadata": {},
   "outputs": [
    {
     "name": "stdout",
     "output_type": "stream",
     "text": [
      "Array de uns (8x2):\n",
      "[[1. 1.]\n",
      " [1. 1.]\n",
      " [1. 1.]\n",
      " [1. 1.]\n",
      " [1. 1.]\n",
      " [1. 1.]\n",
      " [1. 1.]\n",
      " [1. 1.]]\n",
      "\n",
      "Array de zeros (5x7):\n",
      "[[0. 0. 0. 0. 0. 0. 0.]\n",
      " [0. 0. 0. 0. 0. 0. 0.]\n",
      " [0. 0. 0. 0. 0. 0. 0.]\n",
      " [0. 0. 0. 0. 0. 0. 0.]\n",
      " [0. 0. 0. 0. 0. 0. 0.]]\n",
      "\n",
      "Array aleatório (5x7):\n",
      "[[0.83864896 0.89955503 0.53581042 0.29472073 0.75935347 0.54570562\n",
      "  0.60818401]\n",
      " [0.54406797 0.99026959 0.60687278 0.35917107 0.553361   0.33031221\n",
      "  0.52657385]\n",
      " [0.79993495 0.55940799 0.15000808 0.9438827  0.50889309 0.96486431\n",
      "  0.23204944]\n",
      " [0.32096048 0.75563327 0.57112441 0.88022585 0.75949368 0.12158375\n",
      "  0.20873042]\n",
      " [0.67100426 0.43408211 0.83919345 0.89142787 0.30874998 0.4866783\n",
      "  0.23365993]]\n",
      "\n",
      "Subarray (array aleatório - array de zeros):\n",
      "[[0.83864896 0.89955503 0.53581042 0.29472073 0.75935347 0.54570562\n",
      "  0.60818401]\n",
      " [0.54406797 0.99026959 0.60687278 0.35917107 0.553361   0.33031221\n",
      "  0.52657385]\n",
      " [0.79993495 0.55940799 0.15000808 0.9438827  0.50889309 0.96486431\n",
      "  0.23204944]\n",
      " [0.32096048 0.75563327 0.57112441 0.88022585 0.75949368 0.12158375\n",
      "  0.20873042]\n",
      " [0.67100426 0.43408211 0.83919345 0.89142787 0.30874998 0.4866783\n",
      "  0.23365993]]\n",
      "\n",
      "Média dos valores do subarray: 0.5724\n"
     ]
    }
   ],
   "source": [
    "import numpy as np\n",
    "\n",
    "# Array de números 1 com shape (8, 2)\n",
    "array_uns = np.ones((8, 2))\n",
    "print(\"Array de uns (8x2):\")\n",
    "print(array_uns)\n",
    "\n",
    "# Array de zeros com shape (5, 7)\n",
    "array_zeros = np.zeros((5, 7))\n",
    "print(\"\\nArray de zeros (5x7):\")\n",
    "print(array_zeros)\n",
    "\n",
    "# Subtraçao do novo array de outro com dados aleatórios e armazenar numa variável chamada subarray\n",
    "# Criando um array aleatório com shape (5, 7)\n",
    "array_aleatorio = np.random.rand(5, 7)\n",
    "subarray = array_aleatorio - array_zeros\n",
    "print(\"\\nArray aleatório (5x7):\")\n",
    "print(array_aleatorio)\n",
    "print(\"\\nSubarray (array aleatório - array de zeros):\")\n",
    "print(subarray)\n",
    "\n",
    "# Calcular a média dos valores do array subarray\n",
    "media_subarray = np.mean(subarray)\n",
    "print(f\"\\nMédia dos valores do subarray: {media_subarray:.4f}\")"
   ]
  }
 ],
 "metadata": {
  "kernelspec": {
   "display_name": "Python 3",
   "language": "python",
   "name": "python3"
  },
  "language_info": {
   "codemirror_mode": {
    "name": "ipython",
    "version": 3
   },
   "file_extension": ".py",
   "mimetype": "text/x-python",
   "name": "python",
   "nbconvert_exporter": "python",
   "pygments_lexer": "ipython3",
   "version": "3.11.9"
  }
 },
 "nbformat": 4,
 "nbformat_minor": 2
}
