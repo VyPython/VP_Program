{
 "cells": [
  {
   "cell_type": "markdown",
   "metadata": {},
   "source": [
    "A função groupby() do pandas é usada para agrupar um DataFrame por um ou mais níveis de uma coluna ou série específica e aplicar funções de agregação aos dados agrupados. É uma das funções mais poderosas e flexíveis dos pandas, permitindo realizar várias operações de análise de dados em um único passo."
   ]
  },
  {
   "cell_type": "code",
   "execution_count": 4,
   "metadata": {},
   "outputs": [
    {
     "name": "stdout",
     "output_type": "stream",
     "text": [
      "Product\n",
      "AWC Logo Cap                   67316\n",
      "All-Purpose Bike Stand          2400\n",
      "Bike Wash - Dissolver          27579\n",
      "Classic Vest, L                 4651\n",
      "Classic Vest, M                 4876\n",
      "                               ...  \n",
      "Touring-3000 Yellow, 62           83\n",
      "Water Bottle - 30 oz.         164086\n",
      "Women's Mountain Shorts, L      7620\n",
      "Women's Mountain Shorts, M     10317\n",
      "Women's Mountain Shorts, S      9273\n",
      "Name: Order_Quantity, Length: 130, dtype: int64\n"
     ]
    }
   ],
   "source": [
    "import pandas as pd \n",
    "\n",
    "#importar o ficheiro csv\n",
    "df = pd.read_csv('sales_data.csv')\n",
    "\n",
    "#agrupar os dados pela coluna produto e aplicar a soma à coluna 'quandidade por produto'01_funcao_as_type.ipynb\n",
    "sales_by_product = df.groupby('Product')['Order_Quantity'].sum()\n",
    "\n",
    "#imprimir o resultado\n",
    "print(sales_by_product)\n"
   ]
  },
  {
   "cell_type": "markdown",
   "metadata": {},
   "source": [
    "A função groupby() também pode ser usada para agrupar dados com base em várias colunas ao mesmo tempo, utilizando uma lista de colunas. Por exemplo:"
   ]
  },
  {
   "cell_type": "code",
   "execution_count": null,
   "metadata": {},
   "outputs": [
    {
     "name": "stdout",
     "output_type": "stream",
     "text": [
      "Product_Category  Sub_Category       Product                   \n",
      "Accessories       Bike Racks         Hitch Rack - 4-Bike            4741\n",
      "                  Bike Stands        All-Purpose Bike Stand         2400\n",
      "                                     Hitch Rack - 4-Bike              12\n",
      "                  Bottles and Cages  Mountain Bottle Cage          37480\n",
      "                                     Road Bottle Cage              40164\n",
      "                                                                   ...  \n",
      "Clothing          Socks              Women's Mountain Shorts, S       42\n",
      "                  Vests              Classic Vest, L                4651\n",
      "                                     Classic Vest, M                4876\n",
      "                                     Classic Vest, S                4943\n",
      "                                     Touring-1000 Yellow, 50          56\n",
      "Name: Order_Quantity, Length: 138, dtype: int64\n",
      "<bound method Series.max of Product_Category  Sub_Category       Product                   \n",
      "Accessories       Bike Racks         Hitch Rack - 4-Bike           30\n",
      "                  Bike Stands        All-Purpose Bike Stand        12\n",
      "                                     Hitch Rack - 4-Bike            4\n",
      "                  Bottles and Cages  Mountain Bottle Cage          32\n",
      "                                     Road Bottle Cage              32\n",
      "                                                                   ..\n",
      "Clothing          Socks              Women's Mountain Shorts, S    18\n",
      "                  Vests              Classic Vest, L               31\n",
      "                                     Classic Vest, M               31\n",
      "                                     Classic Vest, S               32\n",
      "                                     Touring-1000 Yellow, 50       29\n",
      "Name: Order_Quantity, Length: 138, dtype: int64>\n",
      "<bound method Series.min of Product_Category  Sub_Category       Product                   \n",
      "Accessories       Bike Racks         Hitch Rack - 4-Bike            1\n",
      "                  Bike Stands        All-Purpose Bike Stand         1\n",
      "                                     Hitch Rack - 4-Bike            2\n",
      "                  Bottles and Cages  Mountain Bottle Cage           1\n",
      "                                     Road Bottle Cage               1\n",
      "                                                                   ..\n",
      "Clothing          Socks              Women's Mountain Shorts, S     3\n",
      "                  Vests              Classic Vest, L                1\n",
      "                                     Classic Vest, M                1\n",
      "                                     Classic Vest, S                1\n",
      "                                     Touring-1000 Yellow, 50       27\n",
      "Name: Order_Quantity, Length: 138, dtype: int64>\n",
      "<bound method Series.mean of Product_Category  Sub_Category       Product                   \n",
      "Accessories       Bike Racks         Hitch Rack - 4-Bike            8.008446\n",
      "                  Bike Stands        All-Purpose Bike Stand         5.309735\n",
      "                                     Hitch Rack - 4-Bike            3.000000\n",
      "                  Bottles and Cages  Mountain Bottle Cage          15.335516\n",
      "                                     Road Bottle Cage              15.213636\n",
      "                                                                     ...    \n",
      "Clothing          Socks              Women's Mountain Shorts, S    10.500000\n",
      "                  Vests              Classic Vest, L               14.625786\n",
      "                                     Classic Vest, M               15.237500\n",
      "                                     Classic Vest, S               15.256173\n",
      "                                     Touring-1000 Yellow, 50       28.000000\n",
      "Name: Order_Quantity, Length: 138, dtype: float64>\n"
     ]
    }
   ],
   "source": [
    "#agrupar os dados pela coluna produto e aplicar a soma à coluna 'quandidade por produto'01_funcao_as_type.ipynb\n",
    "sales_by_product_cat_subcat = df.groupby(['Product_Category', 'Sub_Category', 'Product'])['Order_Quantity'].sum()\n",
    "print(sales_by_product_cat_subcat)\n",
    "max_by_product_cat_subcat = df.groupby(['Product_Category', 'Sub_Category', 'Product'])['Order_Quantity'].max()\n",
    "print(max_by_product_cat_subcat.max)\n",
    "min_by_product_cat_subcat = df.groupby(['Product_Category', 'Sub_Category', 'Product'])['Order_Quantity'].min()\n",
    "print(min_by_product_cat_subcat.min)\n",
    "mean_by_product_cat_subcat = df.groupby(['Product_Category', 'Sub_Category', 'Product'])['Order_Quantity'].mean()\n",
    "print(mean_by_product_cat_subcat.mean)\n"
   ]
  }
 ],
 "metadata": {
  "kernelspec": {
   "display_name": "Python 3",
   "language": "python",
   "name": "python3"
  },
  "language_info": {
   "codemirror_mode": {
    "name": "ipython",
    "version": 3
   },
   "file_extension": ".py",
   "mimetype": "text/x-python",
   "name": "python",
   "nbconvert_exporter": "python",
   "pygments_lexer": "ipython3",
   "version": "3.11.9"
  }
 },
 "nbformat": 4,
 "nbformat_minor": 2
}
